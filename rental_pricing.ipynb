{
 "cells": [
  {
   "cell_type": "code",
   "execution_count": 1,
   "id": "5dc92601-805f-4202-92a6-96bc734d396b",
   "metadata": {},
   "outputs": [],
   "source": [
    "import numpy as np\n",
    "import pandas as pd"
   ]
  },
  {
   "cell_type": "markdown",
   "id": "81dea728-cc51-4743-92be-e06f9a90d2d6",
   "metadata": {},
   "source": [
    "## The Dataset"
   ]
  },
  {
   "cell_type": "code",
   "execution_count": 2,
   "id": "69f8ef64-23a7-46bb-aaad-8026c1953d30",
   "metadata": {},
   "outputs": [],
   "source": [
    "data_train = pd.read_parquet(\"exercise_data_train.parquet\")\n",
    "data_test = pd.read_parquet(\"exercise_data_test.parquet\")"
   ]
  },
  {
   "cell_type": "markdown",
   "id": "3bf7a40a-3ba3-47a8-b00c-b96d1f8bff49",
   "metadata": {},
   "source": [
    "We provide you with a training and testing dataset.\n",
    "\n",
    "* The training dataset consists of 21,534 **unique rental listings** that occurred in the San Francisco Bay Area between `2020-01-01` and `2020-09-30`.\n",
    "* The column `final_price` reports the price of the listing when the unit was rented out. This is the **target variable** for prediction.\n",
    "* The testing dataset consists of 8,359 rental listings that occurred between `2020-10-01` and `2020-12-31`. The `final_price` columns has been removed."
   ]
  },
  {
   "cell_type": "code",
   "execution_count": 3,
   "id": "393ff594-52f0-4a03-b540-be76bd7fff56",
   "metadata": {},
   "outputs": [
    {
     "data": {
      "text/html": [
       "<div>\n",
       "<style scoped>\n",
       "    .dataframe tbody tr th:only-of-type {\n",
       "        vertical-align: middle;\n",
       "    }\n",
       "\n",
       "    .dataframe tbody tr th {\n",
       "        vertical-align: top;\n",
       "    }\n",
       "\n",
       "    .dataframe thead th {\n",
       "        text-align: right;\n",
       "    }\n",
       "</style>\n",
       "<table border=\"1\" class=\"dataframe\">\n",
       "  <thead>\n",
       "    <tr style=\"text-align: right;\">\n",
       "      <th></th>\n",
       "      <th>date_listed</th>\n",
       "      <th>zestimate</th>\n",
       "      <th>bedrooms</th>\n",
       "      <th>bathrooms</th>\n",
       "      <th>floor_size</th>\n",
       "      <th>year_built</th>\n",
       "      <th>census_median_income</th>\n",
       "      <th>census_housing_density</th>\n",
       "      <th>zip_code</th>\n",
       "      <th>city</th>\n",
       "      <th>property_type</th>\n",
       "      <th>census_name</th>\n",
       "      <th>county_name</th>\n",
       "      <th>subcounty_name</th>\n",
       "      <th>census_income_class</th>\n",
       "      <th>region</th>\n",
       "      <th>final_price</th>\n",
       "    </tr>\n",
       "  </thead>\n",
       "  <tbody>\n",
       "    <tr>\n",
       "      <th>0</th>\n",
       "      <td>2020-09-26</td>\n",
       "      <td>NaN</td>\n",
       "      <td>3.0</td>\n",
       "      <td>3.5</td>\n",
       "      <td>2510.0</td>\n",
       "      <td>1988.0</td>\n",
       "      <td>81509.0</td>\n",
       "      <td>3.611786</td>\n",
       "      <td>94133</td>\n",
       "      <td>San Francisco</td>\n",
       "      <td>multi-family property</td>\n",
       "      <td>Census Tract 101, San Francisco County, Califo...</td>\n",
       "      <td>San Francisco County, California</td>\n",
       "      <td>San Francisco CCD, San Francisco County, Calif...</td>\n",
       "      <td>C</td>\n",
       "      <td>San Francisco</td>\n",
       "      <td>10500.0</td>\n",
       "    </tr>\n",
       "    <tr>\n",
       "      <th>1</th>\n",
       "      <td>2020-05-18</td>\n",
       "      <td>1020200.0</td>\n",
       "      <td>2.0</td>\n",
       "      <td>1.0</td>\n",
       "      <td>875.0</td>\n",
       "      <td>1979.0</td>\n",
       "      <td>81509.0</td>\n",
       "      <td>3.611786</td>\n",
       "      <td>94133</td>\n",
       "      <td>San Francisco</td>\n",
       "      <td>multi-family property</td>\n",
       "      <td>Census Tract 101, San Francisco County, Califo...</td>\n",
       "      <td>San Francisco County, California</td>\n",
       "      <td>San Francisco CCD, San Francisco County, Calif...</td>\n",
       "      <td>C</td>\n",
       "      <td>San Francisco</td>\n",
       "      <td>3800.0</td>\n",
       "    </tr>\n",
       "    <tr>\n",
       "      <th>2</th>\n",
       "      <td>2020-09-29</td>\n",
       "      <td>1442000.0</td>\n",
       "      <td>2.0</td>\n",
       "      <td>2.5</td>\n",
       "      <td>1430.0</td>\n",
       "      <td>1986.0</td>\n",
       "      <td>81509.0</td>\n",
       "      <td>3.611786</td>\n",
       "      <td>94133</td>\n",
       "      <td>San Francisco</td>\n",
       "      <td>multi-family property</td>\n",
       "      <td>Census Tract 101, San Francisco County, Califo...</td>\n",
       "      <td>San Francisco County, California</td>\n",
       "      <td>San Francisco CCD, San Francisco County, Calif...</td>\n",
       "      <td>C</td>\n",
       "      <td>San Francisco</td>\n",
       "      <td>4895.0</td>\n",
       "    </tr>\n",
       "    <tr>\n",
       "      <th>3</th>\n",
       "      <td>2020-09-17</td>\n",
       "      <td>745700.0</td>\n",
       "      <td>1.0</td>\n",
       "      <td>1.0</td>\n",
       "      <td>750.0</td>\n",
       "      <td>1980.0</td>\n",
       "      <td>81509.0</td>\n",
       "      <td>3.611786</td>\n",
       "      <td>94133</td>\n",
       "      <td>San Francisco</td>\n",
       "      <td>multi-family property</td>\n",
       "      <td>Census Tract 101, San Francisco County, Califo...</td>\n",
       "      <td>San Francisco County, California</td>\n",
       "      <td>San Francisco CCD, San Francisco County, Calif...</td>\n",
       "      <td>C</td>\n",
       "      <td>San Francisco</td>\n",
       "      <td>2290.0</td>\n",
       "    </tr>\n",
       "    <tr>\n",
       "      <th>4</th>\n",
       "      <td>2020-03-04</td>\n",
       "      <td>2299800.0</td>\n",
       "      <td>3.0</td>\n",
       "      <td>2.5</td>\n",
       "      <td>1684.0</td>\n",
       "      <td>1937.0</td>\n",
       "      <td>125238.0</td>\n",
       "      <td>5.915608</td>\n",
       "      <td>94109</td>\n",
       "      <td>San Francisco</td>\n",
       "      <td>single-family property</td>\n",
       "      <td>Census Tract 102, San Francisco County, Califo...</td>\n",
       "      <td>San Francisco County, California</td>\n",
       "      <td>San Francisco CCD, San Francisco County, Calif...</td>\n",
       "      <td>B</td>\n",
       "      <td>San Francisco</td>\n",
       "      <td>7500.0</td>\n",
       "    </tr>\n",
       "  </tbody>\n",
       "</table>\n",
       "</div>"
      ],
      "text/plain": [
       "  date_listed  zestimate  bedrooms  bathrooms  floor_size  year_built  \\\n",
       "0  2020-09-26        NaN       3.0        3.5      2510.0      1988.0   \n",
       "1  2020-05-18  1020200.0       2.0        1.0       875.0      1979.0   \n",
       "2  2020-09-29  1442000.0       2.0        2.5      1430.0      1986.0   \n",
       "3  2020-09-17   745700.0       1.0        1.0       750.0      1980.0   \n",
       "4  2020-03-04  2299800.0       3.0        2.5      1684.0      1937.0   \n",
       "\n",
       "   census_median_income  census_housing_density zip_code           city  \\\n",
       "0               81509.0                3.611786    94133  San Francisco   \n",
       "1               81509.0                3.611786    94133  San Francisco   \n",
       "2               81509.0                3.611786    94133  San Francisco   \n",
       "3               81509.0                3.611786    94133  San Francisco   \n",
       "4              125238.0                5.915608    94109  San Francisco   \n",
       "\n",
       "            property_type                                        census_name  \\\n",
       "0   multi-family property  Census Tract 101, San Francisco County, Califo...   \n",
       "1   multi-family property  Census Tract 101, San Francisco County, Califo...   \n",
       "2   multi-family property  Census Tract 101, San Francisco County, Califo...   \n",
       "3   multi-family property  Census Tract 101, San Francisco County, Califo...   \n",
       "4  single-family property  Census Tract 102, San Francisco County, Califo...   \n",
       "\n",
       "                        county_name  \\\n",
       "0  San Francisco County, California   \n",
       "1  San Francisco County, California   \n",
       "2  San Francisco County, California   \n",
       "3  San Francisco County, California   \n",
       "4  San Francisco County, California   \n",
       "\n",
       "                                      subcounty_name census_income_class  \\\n",
       "0  San Francisco CCD, San Francisco County, Calif...                   C   \n",
       "1  San Francisco CCD, San Francisco County, Calif...                   C   \n",
       "2  San Francisco CCD, San Francisco County, Calif...                   C   \n",
       "3  San Francisco CCD, San Francisco County, Calif...                   C   \n",
       "4  San Francisco CCD, San Francisco County, Calif...                   B   \n",
       "\n",
       "          region  final_price  \n",
       "0  San Francisco      10500.0  \n",
       "1  San Francisco       3800.0  \n",
       "2  San Francisco       4895.0  \n",
       "3  San Francisco       2290.0  \n",
       "4  San Francisco       7500.0  "
      ]
     },
     "execution_count": 3,
     "metadata": {},
     "output_type": "execute_result"
    }
   ],
   "source": [
    "data_train.head()"
   ]
  },
  {
   "cell_type": "markdown",
   "id": "e9e06d27-3b7a-42cf-91de-c75a9cfa773e",
   "metadata": {
    "tags": []
   },
   "source": [
    "### Features\n",
    "\n",
    "| Feature Name | Description |\n",
    "|---|---|\n",
    "| `final_price` | This is the **target variable**; the price at which the unit was rented out |\n",
    "| `date_listed` | The date when the listing was put on the market |\n",
    "| `zestimate` | Zillow's estimate of the sale value of the property |\n",
    "| `bedrooms` | Number of bedrooms |\n",
    "| `bathrooms` | Number of bathrooms |\n",
    "| `floor_size` | The size of the rental unit, in square feet |\n",
    "| `year_built` | The year the property was built |\n",
    "| `census_median_income` | The median income of the census tract |\n",
    "| `census_housing_density` | A measure of the housing density for the census tract |\n",
    "| `zip_code` | The zip code the property is in |\n",
    "| `city` | The city the property is in |\n",
    "| `property_type` | Categorization of the property type |\n",
    "| `census_name` | The census tract the property is in |\n",
    "| `county_name` | The county the property is in |\n",
    "| `subcounty_name` | The sub-county the property is in |\n",
    "| `census_income_class` | A categorization of the median income for the census tract |\n",
    "| `region` | A Doorstead-specific designation of the geographic region. |"
   ]
  },
  {
   "cell_type": "markdown",
   "id": "54796db1-e4c5-4737-a040-a5c5c27b2997",
   "metadata": {},
   "source": [
    "### Number of listings by month"
   ]
  },
  {
   "cell_type": "code",
   "execution_count": 4,
   "id": "e2729e09-9c39-4cb0-9fd2-b637b233af4b",
   "metadata": {},
   "outputs": [
    {
     "data": {
      "text/plain": [
       "2020-01    1940\n",
       "2020-02    1796\n",
       "2020-03    1683\n",
       "2020-04    1729\n",
       "2020-05    2576\n",
       "2020-06    2944\n",
       "2020-07    3025\n",
       "2020-08    2929\n",
       "2020-09    2912\n",
       "Name: date_listed, dtype: int64"
      ]
     },
     "execution_count": 4,
     "metadata": {},
     "output_type": "execute_result"
    }
   ],
   "source": [
    "data_train[\"date_listed\"].dt.strftime(\"%Y-%m\").value_counts(sort=False).sort_index()"
   ]
  },
  {
   "cell_type": "code",
   "execution_count": 5,
   "id": "56478076-cc64-4e40-9fa5-e530ed28879e",
   "metadata": {},
   "outputs": [],
   "source": [
    "target_col = \"final_price\"\n",
    "\n",
    "num_features = [\n",
    "    \"zestimate\",\n",
    "    \"bedrooms\",\n",
    "    \"bathrooms\",\n",
    "    \"floor_size\",\n",
    "    \"year_built\",\n",
    "    \"census_median_income\",\n",
    "    \"census_housing_density\",\n",
    "]\n",
    "\n",
    "cat_features = [\n",
    "    \"zip_code\",\n",
    "    \"city\",\n",
    "    \"property_type\",\n",
    "    \"census_name\",\n",
    "    \"county_name\",\n",
    "    \"subcounty_name\",\n",
    "    \"census_income_class\",\n",
    "    \"region\",\n",
    "]"
   ]
  },
  {
   "cell_type": "code",
   "execution_count": 7,
   "id": "96e74802-a410-47ab-81f1-7d0b2d915901",
   "metadata": {},
   "outputs": [],
   "source": [
    "from catboost import CatBoostRegressor, Pool"
   ]
  },
  {
   "cell_type": "code",
   "execution_count": 8,
   "id": "d0155ac3-3d08-4ba4-8342-e16c765a0f3d",
   "metadata": {},
   "outputs": [],
   "source": [
    "model = CatBoostRegressor(iterations=2, depth=2, learning_rate=1, loss_function=\"RMSE\")"
   ]
  },
  {
   "cell_type": "code",
   "execution_count": null,
   "id": "568354cd-ee2d-4c86-9ecd-ad505f6a705a",
   "metadata": {},
   "outputs": [],
   "source": []
  }
 ],
 "metadata": {
  "kernelspec": {
   "display_name": "doorstead",
   "language": "python",
   "name": "doorstead"
  },
  "language_info": {
   "codemirror_mode": {
    "name": "ipython",
    "version": 3
   },
   "file_extension": ".py",
   "mimetype": "text/x-python",
   "name": "python",
   "nbconvert_exporter": "python",
   "pygments_lexer": "ipython3",
   "version": "3.7.9"
  }
 },
 "nbformat": 4,
 "nbformat_minor": 5
}
